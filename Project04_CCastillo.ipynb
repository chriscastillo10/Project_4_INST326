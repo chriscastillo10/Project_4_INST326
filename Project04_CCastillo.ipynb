{
 "cells": [
  {
   "cell_type": "markdown",
   "id": "cddf5de3-a9f3-4471-bbaf-aca41a70ce89",
   "metadata": {},
   "source": [
    "#### INST326 OOP Project 04"
   ]
  },
  {
   "cell_type": "markdown",
   "id": "2bb7f115-9eba-4f29-918e-b016e6a7edc8",
   "metadata": {},
   "source": [
    "### Christopher Castillo\n",
    "> INST326 Section 0202 \n",
    "> Project 4  \n",
    "> 12/11/2024\n",
    "> 1118  \n",
    "#### Honor Pledge\n",
    "> I pledge that the work contained in this assignment is my own...\n",
    "#### Disclosures\n",
    "> None."
   ]
  },
  {
   "cell_type": "markdown",
   "id": "176a3739-9a16-4655-8cbb-a4cbfdf17226",
   "metadata": {},
   "source": [
    "You may work as an individual on **ONE** of the following projects, **OR** if you want to work as a group, contact Dr. Dempwolf for a project assignment. That group assignment will be part of an ongoing research project analyzing innovation ecosystems. "
   ]
  },
  {
   "cell_type": "markdown",
   "id": "8ee05bdb-db2d-41c2-9f23-3af75d058612",
   "metadata": {},
   "source": [
    "### Individual Projects\n",
    "Choose **ONE** of the following projects and write to code solution in the code cell below your choice. Use comments in your code to document your solution. If you need to write comments to the grader, add a markdown cell immediately above your code solution and add your comments there. Be sure to read and follow the Notebook Instructions at the bottom of this notebook. Your grade may depend on it! "
   ]
  },
  {
   "cell_type": "markdown",
   "id": "a1c98e85-2c64-4a03-8309-d91035cca6d2",
   "metadata": {},
   "source": [
    "#### 1. Library Management System\n",
    ">  Objective: Develop a system to manage a library’s collection of books, users, and loan records. This system should allow users to borrow and return books, as well as track which books are currently available.\n",
    ">\n",
    "> Requirements\n",
    ">>- Use classes to represent books, users, and the library.\n",
    ">>- Implement encapsulation to protect class attributes.\n",
    ">>- Use inheritance to handle different types of users (e.g., students and teachers).\n",
    ">>- Demonstrate polymorphism in borrowing rules (e.g., different borrowing limits for students vs. teachers).\n",
    ">>- Include methods for adding/removing books, registering users, and managing book loans.\n",
    ">>- Include execution code to demonstrate that your solution works"
   ]
  },
  {
   "cell_type": "code",
   "execution_count": null,
   "id": "8cf9723f-1ab6-4461-90b6-637a177e0f5a",
   "metadata": {},
   "outputs": [],
   "source": [
    "# Solution - enter your code solution below\n"
   ]
  },
  {
   "cell_type": "markdown",
   "id": "28b28d8a-dbb3-4f15-bbe0-e14504b84876",
   "metadata": {},
   "source": [
    "#### 2. Online Shopping Cart System\n",
    ">  Objective: Build a shopping cart system for an online store that manages products, shopping carts, and orders.\n",
    ">\n",
    "> Requirements\n",
    ">>- Use classes to represent products, shopping carts, and orders.\n",
    ">>- Implement encapsulation to handle product prices and cart contents securely.\n",
    ">>- Use inheritance to create different types of products (e.g., electronics, clothing).\n",
    ">>- Demonstrate polymorphism by calculating discounts based on product type.\n",
    ">>- Include execution code to demonstrate that your solution works"
   ]
  },
  {
   "cell_type": "code",
   "execution_count": null,
   "id": "e655cf9f-d2fc-4541-918f-8d85b1c04e94",
   "metadata": {},
   "outputs": [],
   "source": [
    "# Solution - enter your code solution below\n"
   ]
  },
  {
   "cell_type": "markdown",
   "id": "6708f6cf-aac7-430e-947d-6f9c8dd161f6",
   "metadata": {},
   "source": [
    "#### 3. Restaurant Reservation System\n",
    ">  Objective: Create a reservation system for a restaurant that manages tables, reservations, and customers.\n",
    ">\n",
    ">  Requirements\n",
    ">>- Use classes to represent tables, customers, and reservations.\n",
    ">>- Implement encapsulation for managing table availability and reservation details.\n",
    ">>- Use inheritance to differentiate between walk-in and advance reservations.\n",
    ">>- Demonstrate polymorphism by handling special cases (e.g., priority seating for VIP customers).\n",
    ">>- Include execution code to demonstrate that your solution works"
   ]
  },
  {
   "cell_type": "code",
   "execution_count": null,
   "id": "992556f0-32d7-464d-99db-6cd10b907784",
   "metadata": {},
   "outputs": [],
   "source": [
    "# Solution - enter your code solution below\n"
   ]
  },
  {
   "cell_type": "markdown",
   "id": "5a53bd40-c45e-49da-b4d7-10da7f13dc87",
   "metadata": {},
   "source": [
    "#### 4. Vehicle Rental System\n",
    ">  Objective: Develop a vehicle rental system that manages a fleet of vehicles, customer rentals, and payment processing.\n",
    ">\n",
    ">  Requirements\n",
    ">>- Use classes to represent different types of vehicles, customers, and rental transactions.\n",
    ">>- Implement encapsulation to handle sensitive information like customer payment details.\n",
    ">>- Use inheritance to differentiate between various vehicle types (e.g., cars, trucks, motorcycles).\n",
    ">>- Demonstrate polymorphism by applying different rental pricing strategies based on vehicle type.\n",
    ">>- Include execution code to demonstrate that your solution works"
   ]
  },
  {
   "cell_type": "code",
   "execution_count": 2,
   "id": "1a091048-b769-4550-9433-d68de6e0d2f2",
   "metadata": {},
   "outputs": [
    {
     "name": "stdout",
     "output_type": "stream",
     "text": [
      "Transaction 1001:\n",
      "Customer: Christopher Castillo\n",
      "Vehicle: 2020 Nissan Sentra (ID: 1)\n",
      "Rental Days: 7\n",
      "Total Price: $371\n",
      "Date: 2024-12-11 23:09:10\n",
      "Transaction 1002:\n",
      "Customer: Riley Green\n",
      "Vehicle: 2025 Ford E-450 Super Duty (ID: 2)\n",
      "Rental Days: 5\n",
      "Total Price: $350\n",
      "Date: 2024-12-11 23:09:10\n",
      "Transaction 1003:\n",
      "Customer: Juan Soto\n",
      "Vehicle: 2024 BMW S 1000 RR (ID: 3)\n",
      "Rental Days: 3\n",
      "Total Price: $300\n",
      "Date: 2024-12-11 23:09:10\n"
     ]
    }
   ],
   "source": [
    "# Solution - enter your code solution below\n",
    "\n",
    "# Importing the necessary modules for the program\n",
    "from abc import ABC, abstractmethod\n",
    "from datetime import datetime\n",
    "\n",
    "# Creating the base class called 'Vehicle' for all the vehicles\n",
    "class Vehicle(ABC):\n",
    "    def __init__(self, vehicle_id, model, brand, year):\n",
    "        self.vehicle_id = vehicle_id\n",
    "        self.model = model\n",
    "        self.brand = brand\n",
    "        self.year = year\n",
    "    \n",
    "    @abstractmethod\n",
    "    def rental_price(self, days):\n",
    "        pass\n",
    "    \n",
    "    def __str__(self):\n",
    "        return f\"{self.year} {self.brand} {self.model} (ID: {self.vehicle_id})\"\n",
    "\n",
    "# Creating the derived class called 'Car' for the cars\n",
    "class Car(Vehicle):\n",
    "    def rental_price(self, days):\n",
    "        return days * 53  # Average price in Marland for a car is $53 per day\n",
    "\n",
    "# Creating the derived class called 'Truck' for the trucks\n",
    "class Truck(Vehicle):\n",
    "    def rental_price(self, days):\n",
    "        return days * 70  # Average price in Maryland for a truck is $70 per day\n",
    "\n",
    "# Creating the derived class called 'Motorcycle' for the motorcycles\n",
    "class Motorcycle(Vehicle):\n",
    "    def rental_price(self, days):\n",
    "        return days * 100  # Average price in Maryland for a motorcycle is $100 per day\n",
    "\n",
    "# Creating the class 'Customer' to represent every customer\n",
    "class Customer:\n",
    "    def __init__(self, customer_id, name, payment_details):\n",
    "        self.customer_id = customer_id\n",
    "        self.name = name\n",
    "        self.__payment_details = payment_details\n",
    "    \n",
    "    def get_payment_details(self):\n",
    "        return self.__payment_details\n",
    "    \n",
    "    def __str__(self):\n",
    "        return f\"Customer {self.customer_id}: {self.name}\"\n",
    "\n",
    "# Creating the class 'RentalTransaction' to represent every rental transaction\n",
    "class RentalTransaction:\n",
    "    def __init__(self, transaction_id, customer, vehicle, rental_days):\n",
    "        self.transaction_id = transaction_id\n",
    "        self.customer = customer\n",
    "        self.vehicle = vehicle\n",
    "        self.rental_days = rental_days\n",
    "        self.rental_date = datetime.now()   # This is used as a timestamp for when the rental transaction was created\n",
    "        self.total_price = self.vehicle.rental_price(self.rental_days)  # This is used to calculate the total price of the rental and assigns it to the 'total_price' attribute of the 'RentalTransaction' instance\n",
    "    \n",
    "    def __str__(self):\n",
    "        return (f\"Transaction {self.transaction_id}:\\n\"\n",
    "                f\"Customer: {self.customer.name}\\n\"\n",
    "                f\"Vehicle: {self.vehicle}\\n\"\n",
    "                f\"Rental Days: {self.rental_days}\\n\"\n",
    "                f\"Total Price: ${self.total_price}\\n\"\n",
    "                f\"Date: {self.rental_date.strftime('%Y-%m-%d %H:%M:%S')}\")\n",
    "\n",
    "# Creating instances of vehicles\n",
    "car = Car(vehicle_id=1, brand = \"Nissan\", model = \"Sentra\", year = 2020)\n",
    "truck = Truck(vehicle_id=2, brand = \"Ford\", model=\"E-450 Super Duty\", year = 2025)\n",
    "motorcycle = Motorcycle(vehicle_id=3, brand = \"BMW\", model = \"S 1000 RR\", year = 2024)\n",
    "\n",
    "# Creating instances of customers\n",
    "customer1 = Customer(customer_id = 1, name = \"Christopher Castillo\", payment_details = \"MasterCard 8385-5678-1529-5630\")\n",
    "customer2 = Customer(customer_id = 2, name = \"Riley Green\", payment_details = \"Visa 1234-5678-9101-1121\")\n",
    "customer3 = Customer(customer_id = 3, name = \"Juan Soto\", payment_details = \"Amex 9876-5432-1098-7654\")\n",
    "\n",
    "# Creating the rental transactions\n",
    "rental1 = RentalTransaction(transaction_id=1001, customer = customer1, vehicle = car, rental_days = 7)\n",
    "rental2 = RentalTransaction(transaction_id=1002, customer = customer2, vehicle = truck, rental_days = 5)\n",
    "rental3 = RentalTransaction(transaction_id=1003, customer = customer3, vehicle = motorcycle, rental_days = 3)\n",
    "\n",
    "# Printing rental transactions to demonstrate functionality of the program\n",
    "print(rental1)\n",
    "print(rental2)\n",
    "print(rental3)"
   ]
  },
  {
   "cell_type": "code",
   "execution_count": 1,
   "id": "2592a0ac",
   "metadata": {},
   "outputs": [
    {
     "name": "stdout",
     "output_type": "stream",
     "text": [
      "https://github.com/chriscastillo10/Project_4_INST326\n"
     ]
    }
   ],
   "source": [
    "githublink = \"https://github.com/chriscastillo10/Project_4_INST326\"\n",
    "print(githublink)"
   ]
  },
  {
   "cell_type": "markdown",
   "id": "f0c73f2e-9616-459e-ac0d-c82da9b6ac82",
   "metadata": {},
   "source": [
    "#### 5. Online Learning Platform\n",
    ">  Objective: Create an online learning platform that manages courses, students, and instructors.\n",
    ">  \n",
    ">  Requirements\n",
    ">>- Use classes to represent courses, students, and instructors.\n",
    ">>- Implement encapsulation to manage sensitive information like student grades.\n",
    ">>- Use inheritance to handle different types of courses (e.g., free, paid, and premium).\n",
    ">>- Demonstrate polymorphism in applying different grading schemes for assignments.\n",
    ">>- Include execution code to demonstrate that your solution works"
   ]
  },
  {
   "cell_type": "code",
   "execution_count": null,
   "id": "1904cb6f-07d7-4630-bc13-59387bae91e8",
   "metadata": {},
   "outputs": [],
   "source": [
    "# Solution - enter your code solution below\n"
   ]
  },
  {
   "cell_type": "markdown",
   "id": "aee162f1-c1b7-45ac-814d-3e1d4d843ae9",
   "metadata": {},
   "source": [
    "#### 6. E-Commerce Order Processing System\n",
    ">  Objective: Build an order processing system for an online store that manages products, customers, and orders.\n",
    ">  \n",
    ">  Requirements\n",
    ">>- Use classes to represent products, customers, and orders.\n",
    ">>- Implement encapsulation for handling payment details securely.\n",
    ">>- Use inheritance for different types of products (e.g., physical goods, digital downloads).\n",
    ">>- Demonstrate polymorphism by applying different shipping costs based on product type.\n",
    ">>- Include execution code to demonstrate that your solution works"
   ]
  },
  {
   "cell_type": "code",
   "execution_count": null,
   "id": "df4f6272-0b52-4fa7-b520-a6fdf37b8f65",
   "metadata": {},
   "outputs": [],
   "source": [
    "# Solution - enter your code solution below\n"
   ]
  },
  {
   "cell_type": "markdown",
   "id": "ec8ddd19-87cd-475d-a07f-7dc8983dc636",
   "metadata": {},
   "source": [
    "### Notebook Instructions\n",
    "> Before turning in your notebook:\n",
    "> 1. Make sure you have renamed the notebook file as instructed\n",
    "> 2. Make sure you have included your signature block and that it is correct according to the instructions\n",
    "> 3. comment your code as necessary\n",
    "> 4. run all code cells and double check that they run correctly. Include you execution code in your submission. If you can't get your code to run correctly and you want partial credit, add a note for the grader in a new markdown cell directly above your code solution.<br><br>\n",
    "Turn in your notebook by uploading it to ELMS<br>\n",
    "IF the exercises involve saved data files, put your notebook and the data file(s) in a zip folder and upload the zip folder to ELMS"
   ]
  }
 ],
 "metadata": {
  "kernelspec": {
   "display_name": "base",
   "language": "python",
   "name": "python3"
  },
  "language_info": {
   "codemirror_mode": {
    "name": "ipython",
    "version": 3
   },
   "file_extension": ".py",
   "mimetype": "text/x-python",
   "name": "python",
   "nbconvert_exporter": "python",
   "pygments_lexer": "ipython3",
   "version": "3.11.4"
  }
 },
 "nbformat": 4,
 "nbformat_minor": 5
}
